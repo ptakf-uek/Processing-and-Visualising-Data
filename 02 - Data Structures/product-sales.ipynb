{
 "cells": [
  {
   "cell_type": "code",
   "execution_count": 1,
   "metadata": {},
   "outputs": [],
   "source": [
    "import pandas as pd\n",
    "\n",
    "product_sales = pd.read_csv(\"product_sales.csv\")"
   ]
  },
  {
   "cell_type": "markdown",
   "metadata": {},
   "source": [
    "Display the data content"
   ]
  },
  {
   "cell_type": "code",
   "execution_count": 2,
   "metadata": {},
   "outputs": [
    {
     "data": {
      "text/html": [
       "<div>\n",
       "<style scoped>\n",
       "    .dataframe tbody tr th:only-of-type {\n",
       "        vertical-align: middle;\n",
       "    }\n",
       "\n",
       "    .dataframe tbody tr th {\n",
       "        vertical-align: top;\n",
       "    }\n",
       "\n",
       "    .dataframe thead th {\n",
       "        text-align: right;\n",
       "    }\n",
       "</style>\n",
       "<table border=\"1\" class=\"dataframe\">\n",
       "  <thead>\n",
       "    <tr style=\"text-align: right;\">\n",
       "      <th></th>\n",
       "      <th>SaleRep</th>\n",
       "      <th>Region</th>\n",
       "      <th>Orders</th>\n",
       "      <th>TotalSales</th>\n",
       "    </tr>\n",
       "  </thead>\n",
       "  <tbody>\n",
       "    <tr>\n",
       "      <th>0</th>\n",
       "      <td>Felice Lunck</td>\n",
       "      <td>West</td>\n",
       "      <td>218</td>\n",
       "      <td>44489</td>\n",
       "    </tr>\n",
       "    <tr>\n",
       "      <th>1</th>\n",
       "      <td>Doralynn Pesak</td>\n",
       "      <td>West</td>\n",
       "      <td>233</td>\n",
       "      <td>61035</td>\n",
       "    </tr>\n",
       "    <tr>\n",
       "      <th>2</th>\n",
       "      <td>Madelle Martland</td>\n",
       "      <td>East</td>\n",
       "      <td>264</td>\n",
       "      <td>62603</td>\n",
       "    </tr>\n",
       "    <tr>\n",
       "      <th>3</th>\n",
       "      <td>Yasmin Myhan</td>\n",
       "      <td>South</td>\n",
       "      <td>110</td>\n",
       "      <td>59377</td>\n",
       "    </tr>\n",
       "    <tr>\n",
       "      <th>4</th>\n",
       "      <td>Marmaduke Webbe</td>\n",
       "      <td>East</td>\n",
       "      <td>188</td>\n",
       "      <td>78771</td>\n",
       "    </tr>\n",
       "    <tr>\n",
       "      <th>5</th>\n",
       "      <td>Christiano Vero</td>\n",
       "      <td>East</td>\n",
       "      <td>265</td>\n",
       "      <td>68506</td>\n",
       "    </tr>\n",
       "    <tr>\n",
       "      <th>6</th>\n",
       "      <td>Cecelia Jealous</td>\n",
       "      <td>West</td>\n",
       "      <td>93</td>\n",
       "      <td>53634</td>\n",
       "    </tr>\n",
       "    <tr>\n",
       "      <th>7</th>\n",
       "      <td>Isaak Housiaux</td>\n",
       "      <td>East</td>\n",
       "      <td>189</td>\n",
       "      <td>62455</td>\n",
       "    </tr>\n",
       "    <tr>\n",
       "      <th>8</th>\n",
       "      <td>Derril Howland</td>\n",
       "      <td>East</td>\n",
       "      <td>385</td>\n",
       "      <td>73460</td>\n",
       "    </tr>\n",
       "    <tr>\n",
       "      <th>9</th>\n",
       "      <td>Judon Allom</td>\n",
       "      <td>West</td>\n",
       "      <td>230</td>\n",
       "      <td>51067</td>\n",
       "    </tr>\n",
       "  </tbody>\n",
       "</table>\n",
       "</div>"
      ],
      "text/plain": [
       "            SaleRep Region  Orders  TotalSales\n",
       "0      Felice Lunck   West     218       44489\n",
       "1    Doralynn Pesak   West     233       61035\n",
       "2  Madelle Martland   East     264       62603\n",
       "3      Yasmin Myhan  South     110       59377\n",
       "4   Marmaduke Webbe   East     188       78771\n",
       "5   Christiano Vero   East     265       68506\n",
       "6   Cecelia Jealous   West      93       53634\n",
       "7    Isaak Housiaux   East     189       62455\n",
       "8    Derril Howland   East     385       73460\n",
       "9       Judon Allom   West     230       51067"
      ]
     },
     "execution_count": 2,
     "metadata": {},
     "output_type": "execute_result"
    }
   ],
   "source": [
    "product_sales"
   ]
  },
  {
   "cell_type": "markdown",
   "metadata": {},
   "source": [
    "Export data to an html document"
   ]
  },
  {
   "cell_type": "code",
   "execution_count": 3,
   "metadata": {},
   "outputs": [],
   "source": [
    "product_sales.to_html((\"product_sales.html\"))"
   ]
  },
  {
   "cell_type": "markdown",
   "metadata": {},
   "source": [
    "Display the html document in a web browser"
   ]
  },
  {
   "cell_type": "markdown",
   "metadata": {},
   "source": [
    "Export the first and the last column to a csv file"
   ]
  },
  {
   "cell_type": "code",
   "execution_count": 12,
   "metadata": {},
   "outputs": [],
   "source": [
    "product_sales.iloc[:,[2,3]].to_csv(\"product_sales_last_two.csv\")"
   ]
  },
  {
   "cell_type": "markdown",
   "metadata": {},
   "source": [
    "Display the csv document in a text editor"
   ]
  },
  {
   "cell_type": "markdown",
   "metadata": {},
   "source": [
    "Export data related to the west region to an html file"
   ]
  },
  {
   "cell_type": "code",
   "execution_count": 14,
   "metadata": {},
   "outputs": [],
   "source": [
    "product_sales.loc[product_sales[\"Region\"] == \"West\"].to_html(\"product_sales_west.html\")"
   ]
  },
  {
   "cell_type": "markdown",
   "metadata": {},
   "source": [
    "Display the content of the html file in a web browser"
   ]
  }
 ],
 "metadata": {
  "kernelspec": {
   "display_name": "Python 3",
   "language": "python",
   "name": "python3"
  },
  "language_info": {
   "codemirror_mode": {
    "name": "ipython",
    "version": 3
   },
   "file_extension": ".py",
   "mimetype": "text/x-python",
   "name": "python",
   "nbconvert_exporter": "python",
   "pygments_lexer": "ipython3",
   "version": "3.11.2"
  }
 },
 "nbformat": 4,
 "nbformat_minor": 2
}
